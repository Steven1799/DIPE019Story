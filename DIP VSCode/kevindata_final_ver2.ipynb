{
 "cells": [
  {
   "cell_type": "markdown",
   "metadata": {},
   "source": [
    "presence of https\n",
    "long URLs\n",
    "shortened URL\n",
    "non-standard characters\n",
    "use of ip add instead of domain name\n",
    "number of redirect\n",
    "file extensions: .exe, .zip, .php\n",
    "unusual port numbers"
   ]
  },
  {
   "cell_type": "markdown",
   "metadata": {},
   "source": [
    "https://www.mathworks.com/campaigns/offers/next/choosing-the-best-machine-learning-classification-model-and-avoiding-overfitting.html\n",
    "\n",
    "what can we do to choose the right model for classification?\n",
    "\n",
    "1) How much data do you have and is it continuous?\n",
    "\n",
    "dataset is a few thousand rows by 30 columbs\n",
    "\n",
    "2) What type of data is it?\n",
    "\n",
    "integers\n",
    "\n",
    "3) What are you trying to accomplish?\n",
    "\n",
    "classify and identify malicious URLs accurately\n",
    "\n",
    "4) How important is it to visualize the process?\n",
    "\n",
    "very for feature importance\n",
    "\n",
    "5) How much detail do you need?\n",
    "\n",
    "just the top features\n",
    "\n",
    "6) Is storage a limiting factor?\n",
    "\n",
    "no\n",
    "\n",
    "possible models to use:\n",
    "- decision tree but need to code a method to avoid overfitting\n",
    "- SVM"
   ]
  },
  {
   "cell_type": "markdown",
   "metadata": {},
   "source": []
  }
 ],
 "metadata": {
  "language_info": {
   "name": "python"
  },
  "orig_nbformat": 4
 },
 "nbformat": 4,
 "nbformat_minor": 2
}
